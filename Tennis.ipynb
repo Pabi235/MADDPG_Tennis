{
 "cells": [
  {
   "cell_type": "code",
   "execution_count": null,
   "metadata": {},
   "outputs": [],
   "source": [
    "from unityagents import UnityEnvironment\n",
    "import numpy as np"
   ]
  },
  {
   "cell_type": "code",
   "execution_count": null,
   "metadata": {},
   "outputs": [],
   "source": [
    "env = UnityEnvironment(file_name=\"Tennis_Windows_x86_64/Tennis.exe\")"
   ]
  },
  {
   "cell_type": "code",
   "execution_count": null,
   "metadata": {},
   "outputs": [],
   "source": [
    "# get the default brain\n",
    "brain_name = env.brain_names[0]\n",
    "brain = env.brains[brain_name]"
   ]
  },
  {
   "cell_type": "code",
   "execution_count": null,
   "metadata": {},
   "outputs": [],
   "source": [
    "# reset the environment\n",
    "env_info = env.reset(train_mode=True)[brain_name]\n",
    "\n",
    "# number of agents \n",
    "num_agents = len(env_info.agents)\n",
    "print('Number of agents:', num_agents)\n",
    "\n",
    "# size of each action\n",
    "action_size = brain.vector_action_space_size\n",
    "print('Size of each action:', action_size)\n",
    "\n",
    "# examine the state space \n",
    "states = env_info.vector_observations\n",
    "state_size = states.shape[1]\n",
    "print('There are {} agents. Each observes a state with length: {}'.format(states.shape[0], state_size))\n",
    "print('The state for the first agent looks like:', states[0])"
   ]
  },
  {
   "cell_type": "markdown",
   "metadata": {},
   "source": [
    "## Take Random Actions"
   ]
  },
  {
   "cell_type": "code",
   "execution_count": null,
   "metadata": {},
   "outputs": [],
   "source": [
    "for i in range(1, 6):                                      # play game for 5 episodes\n",
    "    env_info = env.reset(train_mode=False)[brain_name]     # reset the environment    \n",
    "    states = env_info.vector_observations                  # get the current state (for each agent)\n",
    "    scores = np.zeros(num_agents)                          # initialize the score (for each agent)\n",
    "    while True:\n",
    "        actions = np.random.randn(num_agents, action_size) # select an action (for each agent)\n",
    "        actions = np.clip(actions, -1, 1)                  # all actions between -1 and 1\n",
    "        print (\"Actions: \", actions)\n",
    "        env_info = env.step(actions)[brain_name]           # send all actions to tne environment\n",
    "        next_states = env_info.vector_observations         # get next state (for each agent)\n",
    "        print (\"Next state: \", next_states)\n",
    "        rewards = env_info.rewards                         # get reward (for each agent)\n",
    "        dones = env_info.local_done                        # see if episode finished\n",
    "        scores += env_info.rewards                         # update the score (for each agent)\n",
    "        states = next_states                               # roll over states to next time step\n",
    "        if np.any(dones):                                  # exit loop if episode finished\n",
    "            break\n",
    "    print('Score (max over agents) from episode {}: {}'.format(i, np.max(scores)))"
   ]
  },
  {
   "cell_type": "code",
   "execution_count": null,
   "metadata": {},
   "outputs": [],
   "source": [
    "import torch\n",
    "from MADDPG import MADDPG\n",
    "# Initialize the agents\n",
    "agents = MADDPG(state_size, action_size, random_seed = 1)\n",
    "\n",
    "\n",
    "for i in range(1, 30):                                      # play game for 5 episodes\n",
    "    env_info = env.reset(train_mode=False)[brain_name]     # reset the environment    \n",
    "    states = env_info.vector_observations                  # get the current state (for each agent)\n",
    "    scores = np.zeros(num_agents)                          # initialize the score (for each agent)\n",
    "    # action\n",
    "    for t in range(1, 1000000):\n",
    "        \n",
    "        actions = agents.act(states)\n",
    "        \n",
    "        env_info = env.step(actions)[brain_name]           # send all actions to tne environment\n",
    "        \n",
    "        next_states = env_info.vector_observations         # get next state (for each agent)\n",
    "                \n",
    "        rewards = env_info.rewards                         # get reward (for each agent)\n",
    "        dones = env_info.local_done                        # see if episode finished\n",
    "        scores += env_info.rewards                         # update the score (for each agent)\n",
    "        \n",
    "        agents.step(states, actions, rewards, next_states, dones)\n",
    "\n",
    "        \n",
    "        states = next_states                               # roll over states to next time step\n",
    "        t += 1\n",
    "        if np.any(dones):                                 # exit loop if episode finished\n",
    "            break\n",
    "    print (\"Timesteps: \", t)\n",
    "    print('Score (max over agents) from episode {}: {}'.format(i, np.max(scores)))"
   ]
  },
  {
   "cell_type": "markdown",
   "metadata": {},
   "source": [
    "# Train the agents"
   ]
  },
  {
   "cell_type": "code",
   "execution_count": null,
   "metadata": {},
   "outputs": [],
   "source": [
    "import numpy as np\n",
    "import random\n",
    "import torch\n",
    "from collections import deque\n",
    "from MADDPG import MADDPG\n",
    "\n",
    "agents = MADDPG(state_size, action_size, random_seed = 2)\n",
    "\n",
    "n_episodes = 15000\n",
    "rand_episodes = 1200\n",
    "\n",
    "scores_list = []\n",
    "scores_window = deque(maxlen=100)\n",
    "\n",
    "# from utils import keep_awake\n",
    "# for i_episode in keep_awake(range(n_episodes)):\n",
    "for i_episode in range(1, n_episodes + 1):\n",
    "    env_info = env.reset(train_mode=True)[brain_name]         \n",
    "    states = env_info.vector_observations                  \n",
    "    scores = np.zeros(num_agents)  \n",
    "    \n",
    "    while True:\n",
    "        # Random actions for first 1200 episodes to encourage exploration\n",
    "        if i_episode < rand_episodes:\n",
    "            actions = agents.act(states, rand = True)\n",
    "        # Some random actions for next 900 episodes to encourage exploration\n",
    "        elif i_episode < rand_episodes*1.75 and np.random.randint(1, 10) <= 5:\n",
    "            actions = agents.act(states, rand = True)\n",
    "        else: \n",
    "            actions = agents.act(states)\n",
    "        \n",
    "        env_info = env.step(actions)[brain_name]           # send all actions to tne environment\n",
    "        next_states = env_info.vector_observations         # get next state (for each agent)              \n",
    "        rewards = env_info.rewards                         # get reward (for each agent)\n",
    "        dones = env_info.local_done                        # see if episode finished\n",
    "        scores += env_info.rewards                         # update the score (for each agent)\n",
    "        \n",
    "        # learn while exploring\n",
    "        if i_episode < rand_episodes:\n",
    "            agents.step(states, actions, rewards, next_states, dones, learn = True)    \n",
    "        else: \n",
    "            agents.step(states, actions, rewards, next_states, dones, learn = True)\n",
    "        \n",
    "        states = next_states                               # roll over states to next time step\n",
    "        if np.any(dones):                                 # exit loop if episode finished\n",
    "            break\n",
    "    \n",
    "    scores_list.append(np.max(scores))\n",
    "    scores_window.append(np.max(scores))\n",
    "    print('\\rEpisode {}\\tAverage Score: {:.2f}'.format(i_episode, np.max(scores)), end=\"\")\n",
    "    \n",
    "    if i_episode % 100 == 0:\n",
    "        torch.save(agents.agent1.actor_local.state_dict(), 'checkpoint_agent1_actor.pth')\n",
    "        torch.save(agents.agent1.critic_local.state_dict(), 'checkpoint_agent1_critic.pth')\n",
    "        \n",
    "        torch.save(agents.agent2.actor_local.state_dict(), 'checkpoint_agent2_actor.pth')\n",
    "        torch.save(agents.agent2.critic_local.state_dict(), 'checkpoint_agent2_critic.pth')\n",
    "        \n",
    "        print('\\rEpisode {}\\tAverage Score: {:.2f}'.format(i_episode, np.mean(scores_window)))\n",
    "\n",
    "    if np.mean(scores_window) > 0.5:\n",
    "        torch.save(agents.agent1.actor_local.state_dict(), 'checkpoint_agent1_actor.pth')\n",
    "        torch.save(agents.agent1.critic_local.state_dict(), 'checkpoint_agent1_critic.pth')\n",
    "        \n",
    "        torch.save(agents.agent2.actor_local.state_dict(), 'checkpoint_agent2_actor.pth')\n",
    "        torch.save(agents.agent2.critic_local.state_dict(), 'checkpoint_agent2_critic.pth')\n",
    "        \n",
    "        print('\\nEnvironment solved in {:d} episodes!\\tAverage Score: {:.2f}'.format(i_episode, np.mean(scores_window)))\n",
    "        break   \n",
    "\n",
    "# PLOT THE SCORES\n",
    "import matplotlib.pyplot as plt\n",
    "%matplotlib inline\n",
    "\n",
    "score = scores_list\n",
    "fig = plt.figure()\n",
    "ax = fig.add_subplot(111)\n",
    "plt.plot(np.arange(len(score)), score)\n",
    "plt.ylabel('Score')\n",
    "plt.xlabel('Episode Number')\n",
    "plt.show()"
   ]
  },
  {
   "cell_type": "markdown",
   "metadata": {},
   "source": [
    "## Watch trained agents"
   ]
  },
  {
   "cell_type": "code",
   "execution_count": null,
   "metadata": {},
   "outputs": [],
   "source": [
    "import torch\n",
    "from collections import deque\n",
    "from MADDPG import MADDPG\n",
    "\n",
    "agents = MADDPG(state_size, action_size, random_seed = 1)\n",
    "\n",
    "agents.agent1.actor_local.load_state_dict(torch.load('checkpoint_agent1_actor.pth'))\n",
    "agents.agent1.critic_local.load_state_dict(torch.load('checkpoint_agent1_critic.pth'))\n",
    "agents.agent2.actor_local.load_state_dict(torch.load('checkpoint_agent2_actor.pth'))\n",
    "agents.agent2.critic_local.load_state_dict(torch.load('checkpoint_agent2_critic.pth'))\n",
    "\n",
    "for i_episode in range(1, 6):                                      \n",
    "    env_info = env.reset(train_mode=False)[brain_name]         \n",
    "    states = env_info.vector_observations                  \n",
    "    scores = np.zeros(num_agents)  \n",
    "    \n",
    "    while True:\n",
    "\n",
    "        actions = agents.act(states)\n",
    "        \n",
    "        env_info = env.step(actions)[brain_name]           # send all actions to tne environment\n",
    "        next_states = env_info.vector_observations         # get next state (for each agent)              \n",
    "        rewards = env_info.rewards                         # get reward (for each agent)\n",
    "        dones = env_info.local_done                        # see if episode finished\n",
    "        scores += env_info.rewards                         # update the score (for each agent)\n",
    "        \n",
    "        states = next_states                               # roll over states to next time step\n",
    "        if np.any(dones):                                 # exit loop if episode finished\n",
    "            break\n",
    "    \n",
    "    print(\"Episode\", i_episode, \"Score is\", np.max(scores))"
   ]
  },
  {
   "cell_type": "code",
   "execution_count": null,
   "metadata": {},
   "outputs": [],
   "source": [
    "env.close()"
   ]
  }
 ],
 "metadata": {
  "kernelspec": {
   "display_name": "drlnd",
   "language": "python",
   "name": "drlnd"
  },
  "language_info": {
   "codemirror_mode": {
    "name": "ipython",
    "version": 3
   },
   "file_extension": ".py",
   "mimetype": "text/x-python",
   "name": "python",
   "nbconvert_exporter": "python",
   "pygments_lexer": "ipython3",
   "version": "3.6.6"
  }
 },
 "nbformat": 4,
 "nbformat_minor": 2
}
